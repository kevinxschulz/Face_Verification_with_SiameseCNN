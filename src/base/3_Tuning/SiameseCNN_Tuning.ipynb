{
 "cells": [
  {
   "cell_type": "code",
   "execution_count": 23,
   "metadata": {
    "colab": {
     "base_uri": "https://localhost:8080/"
    },
    "id": "3rS4BqGjRM7C",
    "outputId": "19f0a113-6810-43bd-b25f-a7233a025511"
   },
   "outputs": [
    {
     "name": "stdout",
     "output_type": "stream",
     "text": [
      "Requirement already satisfied: optuna==3.3.0 in /usr/local/lib/python3.10/dist-packages (3.3.0)\n",
      "Requirement already satisfied: alembic>=1.5.0 in /usr/local/lib/python3.10/dist-packages (from optuna==3.3.0) (1.13.2)\n",
      "Requirement already satisfied: cmaes>=0.10.0 in /usr/local/lib/python3.10/dist-packages (from optuna==3.3.0) (0.10.0)\n",
      "Requirement already satisfied: colorlog in /usr/local/lib/python3.10/dist-packages (from optuna==3.3.0) (6.8.2)\n",
      "Requirement already satisfied: numpy in /usr/local/lib/python3.10/dist-packages (from optuna==3.3.0) (1.25.2)\n",
      "Requirement already satisfied: packaging>=20.0 in /usr/local/lib/python3.10/dist-packages (from optuna==3.3.0) (24.1)\n",
      "Requirement already satisfied: sqlalchemy>=1.3.0 in /usr/local/lib/python3.10/dist-packages (from optuna==3.3.0) (2.0.31)\n",
      "Requirement already satisfied: tqdm in /usr/local/lib/python3.10/dist-packages (from optuna==3.3.0) (4.66.4)\n",
      "Requirement already satisfied: PyYAML in /usr/local/lib/python3.10/dist-packages (from optuna==3.3.0) (6.0.1)\n",
      "Requirement already satisfied: Mako in /usr/local/lib/python3.10/dist-packages (from alembic>=1.5.0->optuna==3.3.0) (1.3.5)\n",
      "Requirement already satisfied: typing-extensions>=4 in /usr/local/lib/python3.10/dist-packages (from alembic>=1.5.0->optuna==3.3.0) (4.12.2)\n",
      "Requirement already satisfied: greenlet!=0.4.17 in /usr/local/lib/python3.10/dist-packages (from sqlalchemy>=1.3.0->optuna==3.3.0) (3.0.3)\n",
      "Requirement already satisfied: MarkupSafe>=0.9.2 in /usr/local/lib/python3.10/dist-packages (from Mako->alembic>=1.5.0->optuna==3.3.0) (2.1.5)\n"
     ]
    }
   ],
   "source": [
    "\n",
    "!pip install optuna==3.3.0 #wichtig: nutzer Version 3.3, da sonst keine kompatibilität mit pytorch_lightning, siehe https://github.com/optuna/optuna/issues/4935"
   ]
  },
  {
   "cell_type": "code",
   "execution_count": 24,
   "metadata": {
    "id": "G0pw3fOlP552"
   },
   "outputs": [],
   "source": [
    "import matplotlib.pyplot as plt\n",
    "import numpy as np\n",
    "import pandas as pd\n",
    "import random\n",
    "from PIL import Image\n",
    "import PIL.ImageOps\n",
    "from torchsummary import summary\n",
    "import torchvision\n",
    "import torchvision.datasets as datasets\n",
    "import torchvision.transforms as transforms\n",
    "from torch.utils.data import DataLoader, Dataset\n",
    "import torchvision.utils\n",
    "import torch\n",
    "from torch.autograd import Variable\n",
    "import torch.nn as nn\n",
    "from torch import optim\n",
    "import torch.nn.functional as F\n",
    "import matplotlib.pyplot as plt\n",
    "from sklearn.metrics import roc_curve, auc, confusion_matrix, ConfusionMatrixDisplay\n",
    "from torch.utils.tensorboard import SummaryWriter\n",
    "import optuna"
   ]
  },
  {
   "cell_type": "code",
   "execution_count": 25,
   "metadata": {
    "id": "iM6JxdjuQZCK"
   },
   "outputs": [],
   "source": [
    "class SiameseNetworkDataset(Dataset):\n",
    "    def __init__(self, image_folder_dataset, transform=None):\n",
    "        self.image_folder_dataset = image_folder_dataset\n",
    "        self.transform = transform\n",
    "        self.augmentation = self.random_augmentation()\n",
    "\n",
    "    def __getitem__(self, index):\n",
    "        img0_tuple = random.choice(self.image_folder_dataset.imgs)\n",
    "        should_get_same_class = random.randint(0, 1)\n",
    "        if should_get_same_class:\n",
    "            while True:\n",
    "                # Keep looping till the same class image is found\n",
    "                img1_tuple = random.choice(self.image_folder_dataset.imgs)\n",
    "                if img0_tuple[1] == img1_tuple[1]:\n",
    "                    break\n",
    "        else:\n",
    "            while True:\n",
    "                # Keep looping till a different class image is found\n",
    "                img1_tuple = random.choice(self.image_folder_dataset.imgs)\n",
    "                if img0_tuple[1] != img1_tuple[1]:\n",
    "                    break\n",
    "\n",
    "        img0 = Image.open(img0_tuple[0])\n",
    "        img1 = Image.open(img1_tuple[0])\n",
    "\n",
    "        img0_path = img0_tuple[0]\n",
    "        img1_path = img1_tuple[0]\n",
    "\n",
    "        # Label: 0 for same class, 1 for different class\n",
    "        label = torch.tensor([int(img0_tuple[1] != img1_tuple[1])], dtype=torch.float32)\n",
    "\n",
    "        if self.transform is not None:\n",
    "            img0 = self.transform(img0)\n",
    "            img1 = self.transform(img1)\n",
    "        else:\n",
    "            img0 = self.augmentation(img0)\n",
    "            img1 = self.augmentation(img1)\n",
    "\n",
    "        return img0, img1, img0_path, img1_path, label\n",
    "\n",
    "    def __len__(self):\n",
    "        return len(self.image_folder_dataset.imgs)\n",
    "\n",
    "    def random_augmentation(self):\n",
    "        augmentations = [\n",
    "            transforms.RandomHorizontalFlip(p=0.5),\n",
    "            transforms.RandomVerticalFlip(p=0.5),\n",
    "            transforms.RandomRotation(degrees=45),\n",
    "            transforms.ColorJitter(brightness=0.5, contrast=0.5, saturation=0.5, hue=0.5),\n",
    "            transforms.RandomGrayscale(p=0.2),\n",
    "            transforms.RandomAffine(degrees=30, translate=(0.1, 0.1), scale=(0.9, 1.1), shear=10)\n",
    "        ]\n",
    "        return transforms.Compose([\n",
    "            random.choice(augmentations),\n",
    "            transforms.Resize((64, 64)),\n",
    "            transforms.ToTensor()\n",
    "        ])"
   ]
  },
  {
   "cell_type": "code",
   "execution_count": 26,
   "metadata": {
    "id": "YjTQfULjQdii"
   },
   "outputs": [],
   "source": [
    "class SiameseNeuralNetwork(nn.Module):\n",
    "    def __init__(self):\n",
    "        super(SiameseNeuralNetwork, self).__init__()\n",
    "\n",
    "        # Convolutional layers with BatchNormalization\n",
    "        self.conv = nn.Sequential(\n",
    "            nn.Conv2d(3, 64, kernel_size=5, stride=1, padding=0),\n",
    "            nn.BatchNorm2d(64),  # BatchNormalization\n",
    "            nn.ReLU(),\n",
    "            nn.MaxPool2d(kernel_size=2, stride=2, padding=1),\n",
    "\n",
    "            nn.Conv2d(64, 128, kernel_size=4, stride=1, padding=0),\n",
    "            nn.BatchNorm2d(128),  # BatchNormalization\n",
    "            nn.ReLU(),\n",
    "            nn.MaxPool2d(kernel_size=2, stride=2, padding=0),\n",
    "            nn.AdaptiveAvgPool2d((1, 1))  # Global Average Pooling\n",
    "        )\n",
    "\n",
    "        # Fully connected layers with BatchNormalization\n",
    "        self.fc = nn.Sequential(\n",
    "            nn.Linear(128, 256),\n",
    "            nn.ReLU(),\n",
    "            nn.Linear(256, 64),\n",
    "            nn.Sigmoid()\n",
    "        )\n",
    "\n",
    "    def forward(self, x):\n",
    "        x = self.conv(x)\n",
    "        x = x.view(x.size(0), -1)\n",
    "        x = self.fc(x)\n",
    "        return x"
   ]
  },
  {
   "cell_type": "code",
   "execution_count": 27,
   "metadata": {
    "id": "BYZUDZHSQxMb"
   },
   "outputs": [],
   "source": [
    "class ContrastiveLoss(torch.nn.Module):\n",
    "    def __init__(self, margin=1.0):\n",
    "        super(ContrastiveLoss, self).__init__()\n",
    "        self.margin = margin\n",
    "\n",
    "    def forward(self, output1, output2, label):\n",
    "      # Calculate the euclidean distance and calculate the contrastive loss\n",
    "      euclidean_distance = F.pairwise_distance(output1, output2, keepdim = True)\n",
    "\n",
    "      loss_contrastive = torch.mean((1-label) * torch.pow(euclidean_distance, 2) +\n",
    "                                    (label) * torch.pow(torch.clamp(self.margin - euclidean_distance, min=0.0), 2))\n",
    "\n",
    "\n",
    "      return loss_contrastive"
   ]
  },
  {
   "cell_type": "code",
   "execution_count": 28,
   "metadata": {
    "id": "Knz6XfMo1a99"
   },
   "outputs": [],
   "source": [
    "def fit(model, epoch_number, train_dataloader, val_dataloader, optimizer, criterion_name, device, treshold):\n",
    "    loss_history = []\n",
    "\n",
    "    print(\"Begin Training\")\n",
    "\n",
    "    for epoch in range(epoch_number):\n",
    "        # Training phase\n",
    "        model.train()\n",
    "        total_train_loss = 0\n",
    "        correct_train = 0\n",
    "        total_train = 0\n",
    "\n",
    "        for batch_idx, (img0, img1, img0_path, img1_path, labels) in enumerate(train_dataloader):\n",
    "            img0, img1, labels = img0.to(device), img1.to(device), labels.to(device)\n",
    "\n",
    "            optimizer.zero_grad()\n",
    "\n",
    "            output1 = model(img0)\n",
    "            output2 = model(img1)\n",
    "\n",
    "            if(criterion_name == \"BCELoss\"):\n",
    "              criterion = nn.BCEWithLogitsLoss()\n",
    "              labels = labels.view(-1)\n",
    "              output = F.pairwise_distance(output1, output2)\n",
    "              loss = criterion(output, labels)\n",
    "\n",
    "            if(criterion_name == \"Constrative\"):\n",
    "              criterion = ContrastiveLoss(margin=1.0)\n",
    "              loss = criterion(output1, output2, labels)\n",
    "\n",
    "            loss.backward()\n",
    "            optimizer.step()\n",
    "\n",
    "            total_train_loss += loss.item()\n",
    "            total_train += labels.size(0)\n",
    "\n",
    "        train_loss = total_train_loss / len(train_dataloader)\n",
    "        print(f\"Epoch {epoch+1}/{epoch_number}, Train Loss: {train_loss:.4f}\")\n",
    "        writer.add_scalar('training loss', train_loss / 100, epoch * len(train_dataloader) + batch_idx)\n",
    "\n",
    "        loss_history.append(train_loss)\n",
    "        validate(model, val_dataloader, device, treshold)"
   ]
  },
  {
   "cell_type": "code",
   "execution_count": 29,
   "metadata": {
    "id": "Tmxpf-RkoHfx"
   },
   "outputs": [],
   "source": [
    "def validate(model, val_dataloader, device, treshold):\n",
    "    model.eval()  # Set the model to evaluation mode (e.g., BatchNorm behaves differently).\n",
    "    correct = 0.0\n",
    "    total = 0.0\n",
    "\n",
    "    with torch.no_grad():\n",
    "        for batch_idx, (img1, img2, img0_path, img1_path, labels) in enumerate(val_dataloader):\n",
    "          labels = labels.view(-1, 1).float()\n",
    "          img1 = img1.to(device)\n",
    "          img2 = img2.to(device)\n",
    "          labels = labels.to(device)\n",
    "          img1 = Variable(img1)\n",
    "          img2 = Variable(img2)\n",
    "          labels = Variable(labels)\n",
    "\n",
    "          output1 = model(img1)\n",
    "          output2 = model(img2)\n",
    "          euclidean_distance = F.pairwise_distance(output1, output2)\n",
    "          predicted = torch.tensor([0 if sd < treshold else 1 for sd in euclidean_distance]).to(device)\n",
    "          output_labels = predicted.to(labels.dtype)\n",
    "\n",
    "          total += labels.size(0)\n",
    "          correct += (predicted == labels).sum().item()\n",
    "    accuracy = 100 * (correct / total)\n",
    "    print('Validation Accuracy of the network: {:.2f}%'.format(accuracy))\n"
   ]
  },
  {
   "cell_type": "code",
   "execution_count": 30,
   "metadata": {
    "id": "ZV9OtfRd2ROn"
   },
   "outputs": [],
   "source": [
    "def predict(model, val_dataloader, device, treshold):\n",
    "    model.eval()\n",
    "    correct = 0.0\n",
    "    total = 0.0\n",
    "    true_labels = []\n",
    "    predicted_labels = []\n",
    "    distance = []\n",
    "    img1_paths = []\n",
    "    img2_paths = []\n",
    "\n",
    "    with torch.no_grad():\n",
    "        for batch_idx, (img1, img2, img1_path, img2_path, labels) in enumerate(val_dataloader):\n",
    "          labels = labels.view(-1, 1).float()\n",
    "          img1 = img1.to(device)\n",
    "          img2 = img2.to(device)\n",
    "          labels = labels.to(device)\n",
    "          img1 = Variable(img1)\n",
    "          img2 = Variable(img2)\n",
    "          labels = Variable(labels)\n",
    "\n",
    "          output1 = model(img1)\n",
    "          output2 = model(img2)\n",
    "          euclidean_distance = F.pairwise_distance(output1, output2)\n",
    "          predicted = torch.tensor([0 if sd < treshold else 1 for sd in euclidean_distance]).to(device)\n",
    "          output_labels = predicted.to(labels.dtype)\n",
    "          true_labels.append(int(labels))\n",
    "          predicted_labels.append(int(predicted))\n",
    "          distance.append(float(euclidean_distance))\n",
    "          img1_paths.append(img1_path)\n",
    "          img2_paths.append(img2_path)\n",
    "\n",
    "          total += labels.size(0)\n",
    "          correct += (predicted == labels).sum().item()\n",
    "    accuracy = 100 * (correct / total)\n",
    "    print('Accuracy of the network on the test set: {:.2f}%'.format(accuracy))\n",
    "\n",
    "    evaluation_df = pd.DataFrame({\n",
    "    'Image1 Path': img1_paths,\n",
    "    'Image2 Path': img2_paths,\n",
    "    'True Label': true_labels,\n",
    "    'Predicted Label': predicted_labels,\n",
    "    'Distance': distance })\n",
    "\n",
    "    return evaluation_df\n"
   ]
  },
  {
   "cell_type": "code",
   "execution_count": 37,
   "metadata": {
    "id": "Nce8_a9XRVuH"
   },
   "outputs": [],
   "source": [
    "# Function for Hyperparameter Optimization (learning rate only)\n",
    "def objective(trial):\n",
    "    # Define the learning rate hyperparameter to be optimized\n",
    "    learning_rate = trial.suggest_loguniform('learning_rate', 1e-5, 1e-1)\n",
    "\n",
    "    # Re-initialize the model and optimizer with the new learning rate\n",
    "    siamese_model = SiameseNeuralNetwork().to(device)\n",
    "    optimizer = optim.Adam(siamese_model.parameters(), lr=learning_rate)\n",
    "\n",
    "    # Hier eventuell epoch_number herabsetzen falls es zu lange dauert!\n",
    "\n",
    "    # Train the model\n",
    "    fit(siamese_model, 5, train_dataloader, val_dataloader, optimizer, \"Constrative\", device, treshold)\n",
    "\n",
    "    # Evaluate the model\n",
    "    evaluation_df = predict(siamese_model, test_dataloader, device, treshold)\n",
    "    true_labels = np.array(evaluation_df['True Label'])\n",
    "    predicted_labels = np.array(evaluation_df['Predicted Label'])\n",
    "    accuracy = 100 * (np.sum(true_labels == predicted_labels) / len(true_labels))\n",
    "\n",
    "    return accuracy"
   ]
  },
  {
   "cell_type": "code",
   "execution_count": 36,
   "metadata": {
    "colab": {
     "base_uri": "https://localhost:8080/",
     "height": 1000
    },
    "id": "bcc4QT26RHIz",
    "outputId": "c8ef9b9c-f816-463c-9055-50ee22bffa15"
   },
   "outputs": [
    {
     "name": "stderr",
     "output_type": "stream",
     "text": [
      "[I 2024-07-06 15:57:36,920] A new study created in memory with name: no-name-3f4fdba2-7bf3-4e3a-bda8-e4b222aa4b59\n"
     ]
    },
    {
     "name": "stdout",
     "output_type": "stream",
     "text": [
      "Number of trainable parameters 185920\n",
      "Begin Training\n"
     ]
    },
    {
     "name": "stderr",
     "output_type": "stream",
     "text": [
      "<ipython-input-35-2e72b2db51fa>:3: FutureWarning: suggest_loguniform has been deprecated in v3.0.0. This feature will be removed in v6.0.0. See https://github.com/optuna/optuna/releases/tag/v3.0.0. Use suggest_float(..., log=True) instead.\n",
      "  learning_rate = trial.suggest_loguniform('learning_rate', 1e-5, 1e-1)\n"
     ]
    },
    {
     "name": "stdout",
     "output_type": "stream",
     "text": [
      "Epoch 1/3, Train Loss: 0.2346\n",
      "Validation Accuracy of the network: 63.15%\n",
      "Epoch 2/3, Train Loss: 0.1821\n",
      "Validation Accuracy of the network: 77.00%\n",
      "Epoch 3/3, Train Loss: 0.1627\n",
      "Validation Accuracy of the network: 74.15%\n"
     ]
    },
    {
     "name": "stderr",
     "output_type": "stream",
     "text": [
      "[I 2024-07-06 16:02:57,515] Trial 0 finished with value: 71.26436781609196 and parameters: {'learning_rate': 0.0010485949003185325}. Best is trial 0 with value: 71.26436781609196.\n"
     ]
    },
    {
     "name": "stdout",
     "output_type": "stream",
     "text": [
      "Accuracy of the network on the test set: 71.26%\n",
      "Begin Training\n",
      "Epoch 1/3, Train Loss: 0.2724\n",
      "Validation Accuracy of the network: 60.20%\n",
      "Epoch 2/3, Train Loss: 0.2263\n",
      "Validation Accuracy of the network: 62.60%\n",
      "Epoch 3/3, Train Loss: 0.1999\n",
      "Validation Accuracy of the network: 70.05%\n"
     ]
    },
    {
     "name": "stderr",
     "output_type": "stream",
     "text": [
      "[I 2024-07-06 16:05:28,118] Trial 1 finished with value: 67.56621689155422 and parameters: {'learning_rate': 0.013805358825525992}. Best is trial 0 with value: 71.26436781609196.\n"
     ]
    },
    {
     "name": "stdout",
     "output_type": "stream",
     "text": [
      "Accuracy of the network on the test set: 67.57%\n",
      "Begin Training\n",
      "Epoch 1/3, Train Loss: 0.4968\n",
      "Validation Accuracy of the network: 50.60%\n",
      "Epoch 2/3, Train Loss: 0.5025\n",
      "Validation Accuracy of the network: 50.15%\n",
      "Epoch 3/3, Train Loss: 0.4870\n",
      "Validation Accuracy of the network: 51.85%\n"
     ]
    },
    {
     "name": "stderr",
     "output_type": "stream",
     "text": [
      "[I 2024-07-06 16:07:36,624] Trial 2 finished with value: 49.525237381309346 and parameters: {'learning_rate': 0.04726549646604065}. Best is trial 0 with value: 71.26436781609196.\n"
     ]
    },
    {
     "name": "stdout",
     "output_type": "stream",
     "text": [
      "Accuracy of the network on the test set: 49.53%\n",
      "Begin Training\n",
      "Epoch 1/3, Train Loss: 0.2277\n",
      "Validation Accuracy of the network: 69.40%\n",
      "Epoch 2/3, Train Loss: 0.1790\n",
      "Validation Accuracy of the network: 71.10%\n",
      "Epoch 3/3, Train Loss: 0.1697\n",
      "Validation Accuracy of the network: 75.00%\n"
     ]
    },
    {
     "name": "stderr",
     "output_type": "stream",
     "text": [
      "[I 2024-07-06 16:09:44,448] Trial 3 finished with value: 70.26486756621689 and parameters: {'learning_rate': 0.0019764053184216103}. Best is trial 0 with value: 71.26436781609196.\n"
     ]
    },
    {
     "name": "stdout",
     "output_type": "stream",
     "text": [
      "Accuracy of the network on the test set: 70.26%\n",
      "Begin Training\n",
      "Epoch 1/3, Train Loss: 0.2267\n",
      "Validation Accuracy of the network: 66.55%\n",
      "Epoch 2/3, Train Loss: 0.2037\n",
      "Validation Accuracy of the network: 69.65%\n",
      "Epoch 3/3, Train Loss: 0.1618\n",
      "Validation Accuracy of the network: 73.85%\n"
     ]
    },
    {
     "name": "stderr",
     "output_type": "stream",
     "text": [
      "[I 2024-07-06 16:11:50,809] Trial 4 finished with value: 72.31384307846078 and parameters: {'learning_rate': 0.00038461832722708656}. Best is trial 4 with value: 72.31384307846078.\n"
     ]
    },
    {
     "name": "stdout",
     "output_type": "stream",
     "text": [
      "Accuracy of the network on the test set: 72.31%\n",
      "Begin Training\n",
      "Epoch 1/3, Train Loss: 0.2178\n",
      "Validation Accuracy of the network: 69.85%\n",
      "Epoch 2/3, Train Loss: 0.1600\n",
      "Validation Accuracy of the network: 69.05%\n",
      "Epoch 3/3, Train Loss: 0.1583\n",
      "Validation Accuracy of the network: 76.15%\n"
     ]
    },
    {
     "name": "stderr",
     "output_type": "stream",
     "text": [
      "[I 2024-07-06 16:13:57,445] Trial 5 finished with value: 73.41329335332334 and parameters: {'learning_rate': 0.0005572206221427243}. Best is trial 5 with value: 73.41329335332334.\n"
     ]
    },
    {
     "name": "stdout",
     "output_type": "stream",
     "text": [
      "Accuracy of the network on the test set: 73.41%\n",
      "Begin Training\n",
      "Epoch 1/3, Train Loss: 0.3055\n",
      "Validation Accuracy of the network: 58.00%\n",
      "Epoch 2/3, Train Loss: 0.2871\n",
      "Validation Accuracy of the network: 59.75%\n",
      "Epoch 3/3, Train Loss: 0.2452\n",
      "Validation Accuracy of the network: 62.35%\n"
     ]
    },
    {
     "name": "stderr",
     "output_type": "stream",
     "text": [
      "[I 2024-07-06 16:16:06,370] Trial 6 finished with value: 61.019490254872565 and parameters: {'learning_rate': 0.01832489768555691}. Best is trial 5 with value: 73.41329335332334.\n"
     ]
    },
    {
     "name": "stdout",
     "output_type": "stream",
     "text": [
      "Accuracy of the network on the test set: 61.02%\n",
      "Begin Training\n",
      "Epoch 1/3, Train Loss: 0.2397\n",
      "Validation Accuracy of the network: 64.95%\n",
      "Epoch 2/3, Train Loss: 0.2097\n",
      "Validation Accuracy of the network: 68.95%\n",
      "Epoch 3/3, Train Loss: 0.1753\n",
      "Validation Accuracy of the network: 74.60%\n"
     ]
    },
    {
     "name": "stderr",
     "output_type": "stream",
     "text": [
      "[I 2024-07-06 16:18:13,791] Trial 7 finished with value: 73.86306846576711 and parameters: {'learning_rate': 0.00013278971804407216}. Best is trial 7 with value: 73.86306846576711.\n"
     ]
    },
    {
     "name": "stdout",
     "output_type": "stream",
     "text": [
      "Accuracy of the network on the test set: 73.86%\n",
      "Begin Training\n",
      "Epoch 1/3, Train Loss: 0.1980\n",
      "Validation Accuracy of the network: 70.70%\n",
      "Epoch 2/3, Train Loss: 0.1800\n",
      "Validation Accuracy of the network: 65.15%\n",
      "Epoch 3/3, Train Loss: 0.1657\n",
      "Validation Accuracy of the network: 74.90%\n"
     ]
    },
    {
     "name": "stderr",
     "output_type": "stream",
     "text": [
      "[I 2024-07-06 16:20:20,201] Trial 8 finished with value: 70.66466766616692 and parameters: {'learning_rate': 0.001730085757944138}. Best is trial 7 with value: 73.86306846576711.\n"
     ]
    },
    {
     "name": "stdout",
     "output_type": "stream",
     "text": [
      "Accuracy of the network on the test set: 70.66%\n",
      "Begin Training\n",
      "Epoch 1/3, Train Loss: 0.4964\n",
      "Validation Accuracy of the network: 50.00%\n",
      "Epoch 2/3, Train Loss: 0.4865\n",
      "Validation Accuracy of the network: 50.50%\n",
      "Epoch 3/3, Train Loss: 0.5070\n",
      "Validation Accuracy of the network: 50.75%\n"
     ]
    },
    {
     "name": "stderr",
     "output_type": "stream",
     "text": [
      "[I 2024-07-06 16:22:26,918] Trial 9 finished with value: 50.774612693653175 and parameters: {'learning_rate': 0.08681507621785275}. Best is trial 7 with value: 73.86306846576711.\n"
     ]
    },
    {
     "name": "stdout",
     "output_type": "stream",
     "text": [
      "Accuracy of the network on the test set: 50.77%\n",
      "Best learning rate: 0.00013278971804407216 with accuracy: 73.86%\n",
      "Begin Training\n",
      "Epoch 1/10, Train Loss: 0.2430\n",
      "Validation Accuracy of the network: 64.00%\n",
      "Epoch 2/10, Train Loss: 0.2132\n",
      "Validation Accuracy of the network: 70.80%\n",
      "Epoch 3/10, Train Loss: 0.1682\n",
      "Validation Accuracy of the network: 74.30%\n",
      "Epoch 4/10, Train Loss: 0.1705\n",
      "Validation Accuracy of the network: 74.30%\n",
      "Epoch 5/10, Train Loss: 0.1571\n",
      "Validation Accuracy of the network: 78.80%\n",
      "Epoch 6/10, Train Loss: 0.1506\n",
      "Validation Accuracy of the network: 78.20%\n",
      "Epoch 7/10, Train Loss: 0.1423\n",
      "Validation Accuracy of the network: 77.05%\n",
      "Epoch 8/10, Train Loss: 0.1410\n",
      "Validation Accuracy of the network: 80.15%\n",
      "Epoch 9/10, Train Loss: 0.1478\n",
      "Validation Accuracy of the network: 79.80%\n",
      "Epoch 10/10, Train Loss: 0.1452\n",
      "Validation Accuracy of the network: 77.95%\n",
      "Accuracy of the network on the test set: 76.46%\n"
     ]
    },
    {
     "data": {
      "image/png": "[encoded data removed]",
      "text/plain": [
       "<Figure size 640x480 with 1 Axes>"
      ]
     },
     "metadata": {},
     "output_type": "display_data"
    },
    {
     "data": {
      "image/png": "[encoded data removed]",
      "text/plain": [
       "<Figure size 640x480 with 2 Axes>"
      ]
     },
     "metadata": {},
     "output_type": "display_data"
    }
   ],
   "source": [
    "# Step 1: Define Path to Training, Validation and Test Images\n",
    "path_to_train_images = \"/content/drive/MyDrive/image_data/small_training\"\n",
    "path_to_validation_images = \"/content/drive/MyDrive/image_data/small_validation\"\n",
    "path_to_test_images = \"/content/drive/MyDrive/image_data/small_test\"\n",
    "\n",
    "# Step 2: Load the training, validation and test dataset with ImageFolder\n",
    "train_dataset = datasets.ImageFolder(path_to_train_images)\n",
    "val_dataset = datasets.ImageFolder(path_to_validation_images)\n",
    "test_dataset = datasets.ImageFolder(path_to_test_images)\n",
    "\n",
    "writer = SummaryWriter('runs/example_experiment')\n",
    "\n",
    "# Step 4: Device configuration (usage of GPU --> if possible!)\n",
    "device = torch.device('cuda' if torch.cuda.is_available() else 'cpu')\n",
    "\n",
    "# Step 5: Resize the images and transform to tensors\n",
    "transformation = transforms.Compose([\n",
    "    transforms.Grayscale(num_output_channels=3),\n",
    "    transforms.Resize((64, 64)),\n",
    "    transforms.ToTensor()])\n",
    "\n",
    "transformation_val = transforms.Compose([\n",
    "    transforms.Resize((64, 64)),\n",
    "    transforms.ToTensor()])\n",
    "\n",
    "# Step 3: Initialize the Network Data Loader for training and validation\n",
    "siamese_train_dataset = SiameseNetworkDataset(train_dataset, transform=transformation_val)\n",
    "siamese_val_dataset = SiameseNetworkDataset(val_dataset, transform=transformation_val)\n",
    "siamese_test_dataset = SiameseNetworkDataset(test_dataset, transform=transformation_val)\n",
    "\n",
    "# Step 4: Device configuration (usage of GPU --> if possible!)\n",
    "device = torch.device('cuda' if torch.cuda.is_available() else 'cpu')\n",
    "\n",
    "# Step 5: Create Siamese Model and print out Network Summary\n",
    "siamese_model = SiameseNeuralNetwork().to(device)\n",
    "total_params = sum(p.numel() for p in siamese_model.parameters() if p.requires_grad)\n",
    "print(f\"Number of trainable parameters {total_params}\")\n",
    "\n",
    "# Step 6: Define Hyperparameters (epoch, batch_size, loss etc.)\n",
    "batch_size = 40\n",
    "epoch_number = 10\n",
    "treshold = 0.5\n",
    "\n",
    "\n",
    "# Step 7: Load Training and Validation Dataset\n",
    "train_dataloader = DataLoader(siamese_train_dataset,\n",
    "                              shuffle=True,\n",
    "                              batch_size=batch_size)\n",
    "\n",
    "val_dataloader = DataLoader(siamese_val_dataset,\n",
    "                            shuffle=False,\n",
    "                            batch_size=1)\n",
    "\n",
    "test_dataloader = DataLoader(siamese_test_dataset,\n",
    "                             shuffle=False,\n",
    "                             batch_size=1)\n",
    "\n",
    "# Optimize the learning rate using Optuna\n",
    "study = optuna.create_study(direction='maximize')\n",
    "study.optimize(objective, n_trials=10)  #, timeout=3600)  # 1 hour limit\n",
    "\n",
    "print(f\"Best learning rate: {study.best_params['learning_rate']} with accuracy: {study.best_value:.2f}%\")\n",
    "\n",
    "# Step 9: Plot ROC Curve with the best model\n",
    "best_learning_rate = study.best_params['learning_rate']\n",
    "siamese_model = SiameseNeuralNetwork().to(device)\n",
    "optimizer = optim.Adam(siamese_model.parameters(), lr=best_learning_rate)\n",
    "\n",
    "#Step 8: Start training and testing\n",
    "fit(siamese_model, epoch_number, train_dataloader, val_dataloader, optimizer, \"Constrative\", device, treshold)\n",
    "evaluation_df = predict(siamese_model, test_dataloader, device, treshold)\n",
    "\n",
    "\n",
    "true_labels = np.array(evaluation_df['True Label'])\n",
    "predicted_labels = np.array(evaluation_df['Predicted Label'])\n",
    "distances = np.array(evaluation_df['Distance'])\n",
    "evaluation_df.to_csv(\"evaluation.csv\", index=False, sep=\";\")\n",
    "\n",
    "distance_prob = 1 - distances\n",
    "\n",
    "fpr, tpr, thresholds = roc_curve(true_labels, distance_prob, pos_label=0)\n",
    "\n",
    "roc_auc = auc(fpr, tpr)\n",
    "\n",
    "plt.figure()\n",
    "plt.plot(fpr, tpr, color='darkorange', lw=2, label='ROC curve (area = %0.2f)' % roc_auc)\n",
    "plt.plot([0, 1], [0, 1], color='navy', lw=2, linestyle='--')\n",
    "plt.xlim([0.0, 1.0])\n",
    "plt.ylim([0.0, 1.0])\n",
    "plt.xlabel('False Positive Rate')\n",
    "plt.ylabel('True Positive Rate')\n",
    "plt.title('Receiver Operating Characteristic')\n",
    "plt.legend(loc=\"lower right\")\n",
    "plt.savefig(\"ROC.png\")\n",
    "# Step 10: Print Confusion Matrix\n",
    "cm = confusion_matrix(true_labels, predicted_labels)\n",
    "disp = ConfusionMatrixDisplay(confusion_matrix=cm)\n",
    "disp.plot(cmap=plt.cm.Blues)\n",
    "plt.savefig(\"ConfusionMatrix.png\")"
   ]
  },
  {
   "cell_type": "code",
   "execution_count": null,
   "metadata": {
    "id": "14ZTEmNLUJQ-"
   },
   "outputs": [],
   "source": [
    "from google.colab import drive\n",
    "drive.mount('/content/drive')"
   ]
  }
 ],
 "metadata": {
  "accelerator": "GPU",
  "colab": {
   "gpuType": "T4",
   "history_visible": true,
   "provenance": []
  },
  "kernelspec": {
   "display_name": "Python 3",
   "name": "python3"
  },
  "language_info": {
   "name": "python"
  }
 },
 "nbformat": 4,
 "nbformat_minor": 0
}
